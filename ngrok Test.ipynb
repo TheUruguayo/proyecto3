{
 "cells": [
  {
   "cell_type": "code",
   "execution_count": 59,
   "id": "initial_id",
   "metadata": {
    "collapsed": true,
    "ExecuteTime": {
     "end_time": "2023-10-05T22:41:33.424063100Z",
     "start_time": "2023-10-05T22:41:32.853151300Z"
    }
   },
   "outputs": [
    {
     "name": "stderr",
     "output_type": "stream",
     "text": [
      "t=2023-10-05T23:41:33+0100 lvl=warn msg=\"ngrok config file found at both XDG and legacy locations, using XDG location\" xdg_path=/home/pi/.config/ngrok/ngrok.yml legacy_path=/home/pi/.ngrok2/ngrok.yml\n"
     ]
    },
    {
     "data": {
      "text/plain": "'https://0aa3-167-58-163-89.ngrok-free.app'"
     },
     "execution_count": 59,
     "metadata": {},
     "output_type": "execute_result"
    }
   ],
   "source": [
    "from pyngrok import ngrok\n",
    "token = \"2WEDyeDPDmemNfvej88UIDuQBhh_Pnyv8vyYd1Kznjff2wX4\"\n",
    "ngrok.set_auth_token(token)\n",
    "\n",
    "listener = ngrok.connect(5000)\n",
    "listener.public_url"
   ]
  },
  {
   "cell_type": "code",
   "execution_count": 17,
   "outputs": [],
   "source": [
    "ngrok.disconnect(listener.public_url)"
   ],
   "metadata": {
    "collapsed": false,
    "ExecuteTime": {
     "end_time": "2023-10-05T22:10:45.700802800Z",
     "start_time": "2023-10-05T22:10:45.619079Z"
    }
   },
   "id": "2ee216466916e94"
  },
  {
   "cell_type": "code",
   "execution_count": 20,
   "outputs": [],
   "source": [
    "ngrok.disconnect('')"
   ],
   "metadata": {
    "collapsed": false,
    "ExecuteTime": {
     "end_time": "2023-10-05T22:12:01.742520200Z",
     "start_time": "2023-10-05T22:12:01.726600200Z"
    }
   },
   "id": "883b87da32d4d11f"
  },
  {
   "cell_type": "code",
   "execution_count": 2,
   "outputs": [
    {
     "name": "stdout",
     "output_type": "stream",
     "text": [
      "list index out of range\n",
      "None\n"
     ]
    }
   ],
   "source": [
    "import requests\n",
    "api_key = \"2WMZ8RtihzdvGZznv66wM43b6Ed_2jYF8zsNHxaNbqM8Zp7CP\"\n",
    "headers = {\n",
    "    \"Authorization\": f\"Bearer {api_key}\",\n",
    "    \"Ngrok-Version\": \"2\",\n",
    "    \"Content-Type\": \"application/json\"\n",
    "}\n",
    "\n",
    "def list_tunnels():\n",
    "    try:\n",
    "        x = requests.get(\"https://api.ngrok.com/tunnel_sessions\", headers= headers)\n",
    "        return x.json()['tunnel_sessions'][0]['id']\n",
    "    except Exception as e:\n",
    "        print(e)\n",
    "\n",
    "id = list_tunnels()\n",
    "print(id)"
   ],
   "metadata": {
    "collapsed": false,
    "ExecuteTime": {
     "end_time": "2023-10-11T10:25:17.683379500Z",
     "start_time": "2023-10-11T10:25:16.695795300Z"
    }
   },
   "id": "709c85dea07fe6d5"
  },
  {
   "cell_type": "code",
   "execution_count": 6,
   "outputs": [
    {
     "name": "stdout",
     "output_type": "stream",
     "text": [
      "list index out of range\n",
      "True\n"
     ]
    }
   ],
   "source": [
    "def list_tunnels():\n",
    "    try:\n",
    "        x = requests.get(\"https://api.ngrok.com/tunnel_sessions\", headers= headers)\n",
    "        return x.json()['tunnel_sessions'][0]['id']\n",
    "    except Exception as e:\n",
    "        print(e)\n",
    "\n",
    "def cleanse_tunnels():\n",
    "    # Get tunnel id\n",
    "    id = list_tunnels()\n",
    "    \n",
    "    # Stop tunnel\n",
    "    if id != None:\n",
    "        x = requests.post(f\"https://api.ngrok.com/tunnel_sessions/{id}/stop\", headers= headers, json={})\n",
    "        return x.status_code == 204\n",
    "    return True\n",
    "    \n",
    "print(cleanse_tunnels())"
   ],
   "metadata": {
    "collapsed": false,
    "ExecuteTime": {
     "end_time": "2023-10-11T11:30:42.076547500Z",
     "start_time": "2023-10-11T11:30:41.242419Z"
    }
   },
   "id": "b4673f5cf2e5321e"
  },
  {
   "cell_type": "code",
   "execution_count": 4,
   "outputs": [
    {
     "ename": "SyntaxError",
     "evalue": "invalid syntax (3292935797.py, line 1)",
     "output_type": "error",
     "traceback": [
      "\u001B[0;36m  Cell \u001B[0;32mIn[4], line 1\u001B[0;36m\u001B[0m\n\u001B[0;31m    mkts tcrw tcmt mnvc\u001B[0m\n\u001B[0m         ^\u001B[0m\n\u001B[0;31mSyntaxError\u001B[0m\u001B[0;31m:\u001B[0m invalid syntax\n"
     ]
    }
   ],
   "source": [
    "mkts tcrw tcmt mnvc\n",
    "inpz tybg bpkq rbof"
   ],
   "metadata": {
    "collapsed": false,
    "ExecuteTime": {
     "end_time": "2023-10-11T10:48:52.496822200Z",
     "start_time": "2023-10-11T10:48:52.455623500Z"
    }
   },
   "id": "16d0ca7e61847a32"
  },
  {
   "cell_type": "code",
   "execution_count": 7,
   "outputs": [
    {
     "name": "stdout",
     "output_type": "stream",
     "text": [
      "Looking in indexes: https://pypi.org/simple, https://www.piwheels.org/simple\n",
      "Requirement already satisfied: pyjwt in /usr/lib/python3/dist-packages (1.7.1)\n"
     ]
    },
    {
     "ename": "ModuleNotFoundError",
     "evalue": "No module named 'pyjwt'",
     "output_type": "error",
     "traceback": [
      "\u001B[0;31m---------------------------------------------------------------------------\u001B[0m",
      "\u001B[0;31mModuleNotFoundError\u001B[0m                       Traceback (most recent call last)",
      "Cell \u001B[0;32mIn[7], line 3\u001B[0m\n\u001B[1;32m      1\u001B[0m \u001B[38;5;28;01mimport\u001B[39;00m \u001B[38;5;21;01mos\u001B[39;00m\n\u001B[1;32m      2\u001B[0m os\u001B[38;5;241m.\u001B[39msystem(\u001B[38;5;124m\"\u001B[39m\u001B[38;5;124mpip install pyjwt\u001B[39m\u001B[38;5;124m\"\u001B[39m)\n\u001B[0;32m----> 3\u001B[0m \u001B[38;5;28;01mfrom\u001B[39;00m \u001B[38;5;21;01mpyjwt\u001B[39;00m \u001B[38;5;28;01mimport\u001B[39;00m jwt\n\u001B[1;32m      4\u001B[0m \u001B[38;5;28;01mimport\u001B[39;00m \u001B[38;5;21;01mrequests\u001B[39;00m\n\u001B[1;32m      6\u001B[0m \u001B[38;5;28;01mdef\u001B[39;00m \u001B[38;5;21mvalidate_google_access_token\u001B[39m(access_token):\n\u001B[1;32m      7\u001B[0m     \u001B[38;5;66;03m# Obtiene las claves públicas de Google\u001B[39;00m\n",
      "\u001B[0;31mModuleNotFoundError\u001B[0m: No module named 'pyjwt'"
     ]
    }
   ],
   "source": [
    "import os\n",
    "os.system(\"pip install pyjwt\")\n",
    "from pyjwt import jwt\n",
    "import requests\n",
    "\n",
    "def validate_google_access_token(access_token):\n",
    "    # Obtiene las claves públicas de Google\n",
    "    jwks_url = \"https://www.googleapis.com/oauth2/v3/certs\"\n",
    "    jwks_response = requests.get(jwks_url)\n",
    "    jwks_data = jwks_response.json()\n",
    "\n",
    "    # Decodifica y verifica el token de acceso\n",
    "    try:\n",
    "        decoded_token = jwt.decode(access_token, jwks_data, algorithms=[\"RS256\"], audience=\"TuClienteID\")\n",
    "        # Verificación exitosa\n",
    "        return decoded_token\n",
    "    except jwt.ExpiredSignatureError:\n",
    "        # Token expirado\n",
    "        return None\n",
    "    except jwt.JWTClaimsError:\n",
    "        # Error en las reclamaciones del token\n",
    "        return None\n",
    "    except Exception as e:\n",
    "        # Otro error\n",
    "        return None\n",
    "\n",
    "# Uso:\n",
    "access_token = \"TuTokenDeAcceso\"\n",
    "result = validate_google_access_token(access_token)\n",
    "if result:\n",
    "    print(\"Token válido:\", result)\n",
    "else:\n",
    "    print(\"Token inválido o error de validación.\")"
   ],
   "metadata": {
    "collapsed": false,
    "ExecuteTime": {
     "end_time": "2023-10-10T01:14:04.052839100Z",
     "start_time": "2023-10-10T01:13:58.154064500Z"
    }
   },
   "id": "45b729cba04eb5fb"
  },
  {
   "cell_type": "code",
   "execution_count": null,
   "outputs": [],
   "source": [],
   "metadata": {
    "collapsed": false
   },
   "id": "91c12f319dc19191"
  }
 ],
 "metadata": {
  "kernelspec": {
   "display_name": "Python 3",
   "language": "python",
   "name": "python3"
  },
  "language_info": {
   "codemirror_mode": {
    "name": "ipython",
    "version": 2
   },
   "file_extension": ".py",
   "mimetype": "text/x-python",
   "name": "python",
   "nbconvert_exporter": "python",
   "pygments_lexer": "ipython2",
   "version": "2.7.6"
  }
 },
 "nbformat": 4,
 "nbformat_minor": 5
}
